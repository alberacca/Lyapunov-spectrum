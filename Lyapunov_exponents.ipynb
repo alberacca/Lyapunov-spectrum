{
 "cells": [
  {
   "cell_type": "code",
   "execution_count": 1,
   "metadata": {},
   "outputs": [],
   "source": [
    "import numpy as np\n",
    "import os\n",
    "import matplotlib.pyplot as plt\n",
    "os.environ[\"OMP_NUM_THREADS\"] = \"1\"\n",
    "\n",
    "# In functions there are the integration functions and the QR decomposition\n",
    "%run ./Functions.ipynb"
   ]
  },
  {
   "cell_type": "markdown",
   "metadata": {},
   "source": [
    "## Overview\n",
    "\n",
    "We compute the first m largest Lyapunov exponents of the Lorenz system."
   ]
  },
  {
   "cell_type": "code",
   "execution_count": 2,
   "metadata": {},
   "outputs": [],
   "source": [
    "##### Initialize\n",
    "\n",
    "N_dim     = 3          #Degrees of freedom of the system\n",
    "\n",
    "N_exp     = 2          #Number of exponents to compute\n",
    "\n",
    "dt        = .005       #timestep\n",
    "\n",
    "N_orth    = 100        #number of steps before orthonormalization of the basis\n",
    "N         = 500000     #length of time series\n",
    "N_times   = N//N_orth  #total number of orthonormalizations\n",
    "N_print   = 10         #total number of printed updates during computation\n",
    "\n",
    "integrator = RK4       #integration scheme\n",
    "system     = Lorenz    #Right hand side of the governing equations\n",
    "\n",
    "N_transient = int(200/dt)                       #integration points to reach the attractor\n",
    "q0          = np.random.random((N_dim))         #random initial condition\n",
    "q0          = integrator(q0,dt,N_transient,Lorenz) #unperturbed initial condition on the attractor \n",
    "\n",
    "eps         = 1.e-6                               #multiplication factor to make the orthonormalized perturbation infinitesimal\n",
    "\n",
    "SS          = np.empty((N_times, N_exp))          #initialize lyapunov exponents\n",
    "x0P         = []                                  #initialize perturbations\n",
    "for ii in range(N_exp):\n",
    "    q_per    = np.random.rand(N_dim)\n",
    "    x0P     += [ q0 + eps*(q_per/np.linalg.norm(q_per)) ]      #N_exp randomly perturbed initial conditions"
   ]
  },
  {
   "cell_type": "markdown",
   "metadata": {},
   "source": [
    "### Algorithm\n",
    "The first N_exp largest Lyapunov exponents are computed by letting the unperturbed trajectory plus N_exp perturbed trajectories evolve according to the non linear equations.\n",
    "The evolution of the perturbations is computed as the difference between the perturbed trajectories and the unperturbed trajectory.\n",
    "\n",
    "Every N_orth integration steps, we orthornormalize the perturbations to compute an orthonormal basis that spans the N_exp-dimensional subspace. The average exponential rate of change of the norm of the perturbations along the element of the orthonormal basis provides the largest N_exp Lyapunov exponents."
   ]
  },
  {
   "cell_type": "code",
   "execution_count": 3,
   "metadata": {},
   "outputs": [
    {
     "name": "stdout",
     "output_type": "stream",
     "text": [
      "Lyapunov exponents, completion percentage: [ 0.90684317 -0.00098551] 0.1\n",
      "Lyapunov exponents, completion percentage: [ 9.01637212e-01 -5.98509092e-04] 0.2\n",
      "Lyapunov exponents, completion percentage: [0.89912236 0.00135593] 0.3\n",
      "Lyapunov exponents, completion percentage: [ 9.02460290e-01 -6.80528279e-04] 0.4\n",
      "Lyapunov exponents, completion percentage: [8.99518697e-01 9.88583068e-05] 0.5\n",
      "Lyapunov exponents, completion percentage: [ 9.00989788e-01 -6.32392178e-04] 0.6\n",
      "Lyapunov exponents, completion percentage: [ 9.01870162e-01 -7.81081082e-05] 0.7\n",
      "Lyapunov exponents, completion percentage: [ 9.03501753e-01 -9.91531878e-05] 0.8\n",
      "Lyapunov exponents, completion percentage: [9.02979817e-01 3.85282373e-04] 0.9\n",
      "CPU times: user 26.2 s, sys: 7.89 ms, total: 26.3 s\n",
      "Wall time: 26.2 s\n"
     ]
    }
   ],
   "source": [
    "%%time\n",
    "#### Compute lyapunov exponents\n",
    "\n",
    "S           = 0\n",
    "for jj in range(N_times):\n",
    "    \n",
    "    if jj > 0:\n",
    "        for ii in range(N_exp):\n",
    "            x0P[ii]      = q0 + eps*aa[ii]                         #perturb initial condition with orthonormal basis\n",
    "    \n",
    "    q0   = integrator(q0,dt,N_orth,Lorenz)                         #compute unperturbed trajectory                   \n",
    "    for ii in range(N_exp):\n",
    "        x0P[ii]    = integrator(x0P[ii],dt,N_orth,Lorenz)          #compute perturbed trajectories   \n",
    "            \n",
    "    a  = []\n",
    "    for ii in range(N_exp):        \n",
    "        a  += [(x0P[ii] - q0)/eps]                                #compute the final value of the N_exp perturbations\n",
    "\n",
    "    aa, S1 = QR(a, N_exp)                                         #orthornormalize basis and compute exponents\n",
    "    \n",
    "    if jj > 0:                                                    #skip the first step, which does not start from the orthonormalized basis\n",
    "        S       += S1\n",
    "        SS[jj]   = S/(jj*dt*N_orth)\n",
    "        if jj%(N_times//N_print) == 0: print('Lyapunov exponents, completion percentage:',\n",
    "                                        SS[jj], jj/N_times)   \n",
    "    "
   ]
  },
  {
   "cell_type": "code",
   "execution_count": 6,
   "metadata": {},
   "outputs": [
    {
     "name": "stdout",
     "output_type": "stream",
     "text": [
      "Lyapunov exponents       [ 9.04775103e-01 -9.78468916e-05]\n",
      "Error: not enough exponents have been computed. Increase N_exp to compute KY-dimension\n"
     ]
    }
   ],
   "source": [
    "## Compute Kaplan-Yorke dimension\n",
    "Lyap_exp = SS[-1]\n",
    "print('Lyapunov exponents      ', Lyap_exp)\n",
    "\n",
    "if Lyap_exp.sum() > 0:\n",
    "    print('Error: not enough exponents have been computed. Increase N_exp to compute KY-dimension')\n",
    "\n",
    "else:\n",
    "    sums = np.cumsum(Lyap_exp) #cumulative sum of the Lyapunov exponents\n",
    "    arg  = np.argmax(sums<0)   #index for which the cumulative sum becomes negative\n",
    "\n",
    "    KY_dim = arg + sums[arg-1] / np.abs(sums[arg])\n",
    "\n",
    "    print('Kaplan-Yorke dimension  ', KY_dim)"
   ]
  },
  {
   "cell_type": "code",
   "execution_count": 5,
   "metadata": {},
   "outputs": [
    {
     "data": {
      "image/png": "[encoded data removed]",
      "text/plain": [
       "<Figure size 720x360 with 1 Axes>"
      ]
     },
     "metadata": {
      "needs_background": "light"
     },
     "output_type": "display_data"
    }
   ],
   "source": [
    "### Plot convergence of the exponents\n",
    "plt.rcParams[\"figure.figsize\"] = (10,5)\n",
    "plt.rcParams[\"font.size\"] = 25\n",
    "\n",
    "plt.plot(np.arange(N_times)*dt*N_orth, SS)\n",
    "plt.xlabel('Time')\n",
    "plt.ylabel('Lyapunov Exponents')\n",
    "plt.tight_layout(pad=0.2)\n",
    "plt.show()"
   ]
  },
  {
   "cell_type": "code",
   "execution_count": null,
   "metadata": {},
   "outputs": [],
   "source": []
  }
 ],
 "metadata": {
  "kernelspec": {
   "display_name": "Python 3",
   "language": "python",
   "name": "python3"
  },
  "language_info": {
   "codemirror_mode": {
    "name": "ipython",
    "version": 3
   },
   "file_extension": ".py",
   "mimetype": "text/x-python",
   "name": "python",
   "nbconvert_exporter": "python",
   "pygments_lexer": "ipython3",
   "version": "3.6.9"
  }
 },
 "nbformat": 4,
 "nbformat_minor": 4
}
