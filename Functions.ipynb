{
 "cells": [
  {
   "cell_type": "code",
   "execution_count": null,
   "metadata": {},
   "outputs": [],
   "source": [
    "def QR(M, N_exp):\n",
    "    ''' Compute an orthogonal basis, Q,\n",
    "        and the exponential change in the norm along each element of the basis, S. '''\n",
    "\n",
    "    Q    = [None]*N_exp\n",
    "    S    = np.empty(N_exp)\n",
    "\n",
    "    S[0] = np.linalg.norm(M[0])    \n",
    "    Q[0] = M[0] / S[0]\n",
    "\n",
    "    for i in range(1,N_exp):\n",
    "        \n",
    "        #orthogonalize\n",
    "        temp = 0\n",
    "        for j in range(i):\n",
    "            temp += np.dot(Q[j],M[i])*Q[j]   \n",
    "        Q[i]  = M[i] - temp\n",
    "        \n",
    "        #normalize\n",
    "        S[i]  = np.linalg.norm(Q[i])   #increase of the perturbation along i-th direction\n",
    "        Q[i] /= S[i] \n",
    "\n",
    "    return Q, np.log(S)\n",
    "\n",
    "def Lorenz(q):\n",
    "    ''' Right hand side of the Lorenz equations '''\n",
    "    x, y, z = q\n",
    "    sigma, beta, rho = 10.0, 8.0/3, 28.0\n",
    "    dqdt = [sigma*(y-x), x*(rho-z) - y, x*y - beta*z]\n",
    "\n",
    "    return np.array(dqdt)\n",
    "\n",
    "def RK4(q0,dt,N,func):\n",
    "    ''' 4th order explicit Tunge-Kutta integration method '''\n",
    "\n",
    "    for i in range(N):\n",
    "\n",
    "        k1   = dt * func(q0)\n",
    "        k2   = dt * func(q0 + k1/2)\n",
    "        k3   = dt * func(q0 + k2/2)\n",
    "        k4   = dt * func(q0 + k3)\n",
    "\n",
    "        q0   = q0 + (k1 + 2*k2 + 2*k3 + k4)/6\n",
    "\n",
    "    return  q0\n",
    "\n",
    "def FE(q0,dt,N,func):\n",
    "    ''' 1st order Forward Euler method'''\n",
    "\n",
    "    for i in range(N):\n",
    "        q0   = q0 + dt * func(q0)\n",
    "\n",
    "    return  q0"
   ]
  }
 ],
 "metadata": {
  "kernelspec": {
   "display_name": "Python 3",
   "language": "python",
   "name": "python3"
  },
  "language_info": {
   "codemirror_mode": {
    "name": "ipython",
    "version": 3
   },
   "file_extension": ".py",
   "mimetype": "text/x-python",
   "name": "python",
   "nbconvert_exporter": "python",
   "pygments_lexer": "ipython3",
   "version": "3.6.9"
  }
 },
 "nbformat": 4,
 "nbformat_minor": 4
}
